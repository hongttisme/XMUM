{
 "cells": [
  {
   "cell_type": "code",
   "execution_count": 1,
   "metadata": {
    "ExecuteTime": {
     "end_time": "2024-07-08T10:01:08.344414Z",
     "start_time": "2024-07-08T10:01:07.428762Z"
    }
   },
   "outputs": [],
   "source": [
    "import numpy as np\n",
    "from numpy import linalg as LA\n",
    "\n",
    "from matplotlib import pyplot as plt\n",
    "from matplotlib import image\n",
    "\n",
    "import os\n",
    "\n",
    "from skimage import color \n",
    "from skimage.transform import rescale\n",
    "from skimage.transform import resize\n",
    "\n",
    "from sklearn.model_selection import train_test_split\n",
    "\n",
    "import tkinter as tk\n",
    "from tkinter import filedialog\n",
    "from PIL import ImageTk, Image\n",
    "from sklearn.metrics import mean_squared_error"
   ]
  },
  {
   "cell_type": "code",
   "execution_count": 2,
   "metadata": {
    "ExecuteTime": {
     "end_time": "2024-07-08T10:01:21.340802Z",
     "start_time": "2024-07-08T10:01:11.226994Z"
    }
   },
   "outputs": [],
   "source": [
    "image_datasets = r\"FaceData\"\n",
    "file_names = os.listdir(image_datasets)\n",
    "\n",
    "faces = []\n",
    "ages = []\n",
    "genders = []\n",
    "\n",
    "for file_name in file_names:\n",
    "    file_path = os.path.join(image_datasets,file_name)\n",
    "    img = image.imread(file_path)\n",
    "    \n",
    "    ages.append(os.path.basename(file_name).split(\"_\")[0])\n",
    "    genders.append(os.path.basename(file_name).split(\"_\")[1])\n",
    "    \n",
    "    gray_image = color.rgb2gray(img)\n",
    "    gray_image_rescaled = rescale(gray_image,0.25,anti_aliasing=False)\n",
    "    \n",
    "    faces.append(gray_image_rescaled.flatten()) "
   ]
  },
  {
   "cell_type": "code",
   "execution_count": 5,
   "metadata": {
    "ExecuteTime": {
     "end_time": "2024-07-08T10:01:23.219417Z",
     "start_time": "2024-07-08T10:01:23.131273Z"
    }
   },
   "outputs": [],
   "source": [
    "faces2np = np.array(faces).astype(float)\n",
    "genders2np = np.array(genders).astype(int)*2 -1\n",
    "ages2np = np.array(ages).astype(float)/100"
   ]
  },
  {
   "cell_type": "code",
   "execution_count": 6,
   "metadata": {
    "ExecuteTime": {
     "end_time": "2024-07-08T10:01:23.496788Z",
     "start_time": "2024-07-08T10:01:23.458518Z"
    }
   },
   "outputs": [],
   "source": [
    "X_train, X_test, y_genders_train, y_genders_test, y_ages_train, y_ages_test = train_test_split(faces2np,genders2np,ages2np, test_size=0.1, random_state=205)"
   ]
  },
  {
   "cell_type": "code",
   "execution_count": 31,
   "metadata": {
    "ExecuteTime": {
     "end_time": "2024-07-08T10:10:01.544457Z",
     "start_time": "2024-07-08T10:10:01.540428Z"
    }
   },
   "outputs": [],
   "source": [
    "def bias_matrix(dataset):\n",
    "    biases = np.ones((dataset.shape[0],1))\n",
    "    dataset = np.hstack((dataset,biases))\n",
    "    return dataset"
   ]
  },
  {
   "cell_type": "code",
   "execution_count": 32,
   "metadata": {
    "ExecuteTime": {
     "end_time": "2024-07-08T10:10:01.840462Z",
     "start_time": "2024-07-08T10:10:01.837505Z"
    }
   },
   "outputs": [],
   "source": [
    "def one_dimensional_matrix_reshape(dataset):\n",
    "    dataset_reshape = dataset.reshape((dataset.shape[0],1))\n",
    "    return dataset_reshape"
   ]
  },
  {
   "cell_type": "code",
   "execution_count": 33,
   "metadata": {
    "ExecuteTime": {
     "end_time": "2024-07-08T10:10:02.128081Z",
     "start_time": "2024-07-08T10:10:02.124468Z"
    }
   },
   "outputs": [],
   "source": [
    "def linear_regression(X_train,y_train):\n",
    "    X_train = bias_matrix(X_train)\n",
    "    W = (LA.inv(X_train.T @ X_train)) @ X_train.T @ y_train\n",
    "    return W"
   ]
  },
  {
   "cell_type": "code",
   "execution_count": 10,
   "metadata": {
    "ExecuteTime": {
     "end_time": "2024-07-08T10:01:26.349276Z",
     "start_time": "2024-07-08T10:01:26.345254Z"
    }
   },
   "outputs": [],
   "source": [
    "def Tikhonov_regularization(X_train,y_train,L): \n",
    "    biases = np.ones((X_train.shape[0],1))\n",
    "    X_train = np.hstack((X_train,biases))\n",
    "    W = (LA.inv((X_train.T @ X_train) + L* np.eye(X_train.shape[1])) @ X_train.T @ y_train)\n",
    "    return W"
   ]
  },
  {
   "cell_type": "code",
   "execution_count": 30,
   "metadata": {
    "ExecuteTime": {
     "end_time": "2024-07-08T10:09:54.426154Z",
     "start_time": "2024-07-08T10:09:54.420366Z"
    }
   },
   "outputs": [],
   "source": [
    "def upload_pic():\n",
    "    new_data = []\n",
    "    file_path = filedialog.askopenfilename()\n",
    "    \n",
    "    if file_path:\n",
    "        original_image = Image.open(file_path)\n",
    "        rgb_image = original_image.convert('RGB')\n",
    "        \n",
    "        img = np.array(rgb_image)\n",
    "            \n",
    "        gray_new_image = color.rgb2gray(img)\n",
    "        \n",
    "        gray_new_image_rescaled = resize(gray_new_image, (50, 50), anti_aliasing=False)\n",
    "\n",
    "        new_data.append(gray_new_image_rescaled.flatten()) \n",
    "        new_face = np.array(new_data).astype(float)\n",
    "        \n",
    "        return new_face,file_path"
   ]
  },
  {
   "cell_type": "code",
   "execution_count": 12,
   "metadata": {
    "ExecuteTime": {
     "end_time": "2024-07-08T10:01:29.267184Z",
     "start_time": "2024-07-08T10:01:29.262660Z"
    }
   },
   "outputs": [],
   "source": [
    "def display_image(image_path):\n",
    "    \n",
    "    img = Image.open(image_path)\n",
    "    img = img.resize((300, 300))\n",
    "    img_tk = ImageTk.PhotoImage(img)\n",
    "    image_label.config(image=img_tk)\n",
    "    image_label.image = img_tk"
   ]
  },
  {
   "cell_type": "code",
   "execution_count": 13,
   "metadata": {
    "ExecuteTime": {
     "end_time": "2024-07-08T10:01:30.030445Z",
     "start_time": "2024-07-08T10:01:30.025809Z"
    }
   },
   "outputs": [],
   "source": [
    "def sigmoid(y):\n",
    "    return 1/(1+np.exp(-y))\n",
    "\n",
    "def predict(X, W_hidden,W_output):\n",
    "\n",
    "    y_pred = []\n",
    "    for i in range(X.shape[0]):\n",
    "        x_i = X[i:i+1]\n",
    "        x_i_1 = np.hstack([x_i,[[1]]])\n",
    "        x_h_i = sigmoid(W_hidden@x_i_1.T)\n",
    "        x_h_i_1 = np.vstack([x_h_i,[1]])\n",
    "        x_o = W_output@x_h_i_1\n",
    "        y_pred.append([x_o[0][0]])\n",
    "\n",
    "    return np.array(y_pred),x_h_i_1,x_i_1"
   ]
  },
  {
   "cell_type": "code",
   "execution_count": 12,
   "metadata": {
    "ExecuteTime": {
     "end_time": "2024-07-08T08:57:35.840138Z",
     "start_time": "2024-07-08T08:57:32.496249Z"
    }
   },
   "outputs": [],
   "source": [
    "W_ages_linear_regression = linear_regression(X_train,y_ages_train)\n",
    "W_genders_linear_regression = linear_regression(X_train,y_genders_train)\n",
    "np.save(\"W_ages_linear_regression.npy\",W_ages_linear_regression)\n",
    "np.save(\"W_genders_linear_regression.npy\",W_genders_linear_regression)"
   ]
  },
  {
   "cell_type": "code",
   "execution_count": 13,
   "metadata": {
    "ExecuteTime": {
     "end_time": "2024-07-08T08:57:39.345719Z",
     "start_time": "2024-07-08T08:57:35.841145Z"
    }
   },
   "outputs": [],
   "source": [
    "W_ages_TR = Tikhonov_regularization(X_train,y_ages_train,L=10)\n",
    "W_genders_TR = Tikhonov_regularization(X_train,y_genders_train,L=100)\n",
    "np.save(\"W_ages_TR.npy\",W_ages_TR)\n",
    "np.save(\"W_genders_TR.npy\",W_genders_TR)"
   ]
  },
  {
   "cell_type": "code",
   "execution_count": 14,
   "metadata": {
    "ExecuteTime": {
     "end_time": "2024-07-08T09:06:16.074622Z",
     "start_time": "2024-07-08T08:57:39.346723Z"
    }
   },
   "outputs": [],
   "source": [
    "k = 50\n",
    "alpha_init = 0.00005\n",
    "neuron_in_hidden_layer = 16\n",
    "\n",
    "ann_X_train2 = X_train.copy()\n",
    "ann_y_age_train = y_ages_train.copy()\n",
    "ann_y_genders_train = y_genders_train.copy()\n",
    "\n",
    "\n",
    "\n",
    "\n",
    "ann_X_test2 = X_test.copy()\n",
    "ann_y_age_test = y_ages_test.copy()\n",
    "ann_y_genders_test = y_genders_test.copy()\n",
    "\n",
    "\n",
    "\n",
    "\n",
    "W_hidden = np.random.randn(neuron_in_hidden_layer,ann_X_train2.shape[1]+1)/k\n",
    "\n",
    "W_output = np.random.randn(1,neuron_in_hidden_layer+1)/neuron_in_hidden_layer\n",
    "\n",
    "small_value = 1e-8\n",
    "\n",
    "\n",
    "A_hidden = np.zeros_like(W_hidden)\n",
    "F_hidden = np.zeros_like(W_hidden)\n",
    "\n",
    "A_output = np.zeros_like(W_output)\n",
    "F_output = np.zeros_like(W_output)\n",
    "\n",
    "rho = 0.999\n",
    "rho_f = 0.9\n",
    "\n",
    "\n",
    "for e in range(84):# for each epoch\n",
    "    for i in range(X_train.shape[0]):\n",
    "        #define input and output\n",
    "        x_i = ann_X_train2[i:i+1]\n",
    "        y_i = ann_y_age_train[i]\n",
    "\n",
    "        y_pred_i,x_h_i_1,x_i_1 = predict(x_i, W_hidden,W_output)\n",
    "\n",
    "        delta_k = y_i - y_pred_i\n",
    "\n",
    "        #Gradient for output layer\n",
    "        \n",
    "        Gradient_output  = -delta_k*x_h_i_1.T\n",
    "\n",
    "        A_output = (rho)*A_output + (1-rho)*(Gradient_output)**2\n",
    "\n",
    "        F_output = rho_f*F_output + (1-rho_f)*(Gradient_output)\n",
    "\n",
    "        alpha_t = alpha_init*(np.sqrt(1-rho**(i+1)))/(1-rho_f**(i+1))\n",
    "\n",
    "        W_output = W_output - alpha_t*F_output/np.sqrt(A_output+small_value)\n",
    "\n",
    "\n",
    "        delta_h = x_h_i_1*(1-x_h_i_1)*W_output.T*delta_k\n",
    "\n",
    "        # Update each hidden unit\n",
    "        Gradient_hidden = np.zeros_like(W_hidden)\n",
    "        for h in range(W_hidden.shape[0]):\n",
    "\n",
    "            #Gradient for hidden layer\n",
    "            Gradient_hidden[h,:] =  - delta_h[h] * x_i_1\n",
    "\n",
    "        # Gradient Descent rule\n",
    "\n",
    "        A_hidden = (rho)*A_hidden + (1-rho)*(Gradient_hidden)**2\n",
    "\n",
    "        F_hidden = rho_f*F_hidden + (1-rho_f)*(Gradient_hidden)\n",
    "\n",
    "        alpha_t = alpha_init*(np.sqrt(1-rho**(i+1)))/(1-rho_f**(i+1))\n",
    "\n",
    "        W_hidden = W_hidden - alpha_t*F_hidden/np.sqrt(A_hidden+small_value)\n",
    "\n",
    "\n",
    "    y_pred,_,_ = predict(ann_X_train2, W_hidden,W_output)\n",
    "\n",
    "\n",
    "np.save(\"Adam_age_hidden.npy\",W_hidden)\n",
    "np.save(\"Adam_age_output.npy\",W_output)"
   ]
  },
  {
   "cell_type": "code",
   "execution_count": 15,
   "metadata": {
    "ExecuteTime": {
     "end_time": "2024-07-08T09:16:55.823618Z",
     "start_time": "2024-07-08T09:06:16.075649Z"
    }
   },
   "outputs": [],
   "source": [
    "k = 50\n",
    "alpha_init = 0.00005\n",
    "neuron_in_hidden_layer = 16\n",
    "\n",
    "ann_X_train4 = X_train.copy()\n",
    "ann_y_genders_train = y_genders_train.copy()\n",
    "\n",
    "\n",
    "\n",
    "ann_X_test4 = X_test.copy()\n",
    "ann_y_genders_test = y_genders_test.copy()\n",
    "\n",
    "W_hidden = np.random.randn(neuron_in_hidden_layer,ann_X_train4.shape[1]+1)/k\n",
    "\n",
    "W_output = np.random.randn(1,neuron_in_hidden_layer+1)/neuron_in_hidden_layer\n",
    "\n",
    "small_value = 1e-8\n",
    "\n",
    "\n",
    "A_hidden = np.zeros_like(W_hidden)\n",
    "F_hidden = np.zeros_like(W_hidden)\n",
    "\n",
    "A_output = np.zeros_like(W_output)\n",
    "F_output = np.zeros_like(W_output)\n",
    "\n",
    "rho = 0.999\n",
    "rho_f = 0.9\n",
    "\n",
    "\n",
    "\n",
    "for e in range(98):# for each epoch\n",
    "    for i in range(X_train.shape[0]):\n",
    "        #define input and output\n",
    "        x_i = ann_X_train4[i:i+1]\n",
    "        y_i = ann_y_genders_train[i]\n",
    "\n",
    "        y_pred_i,x_h_i_1,x_i_1 = predict(x_i, W_hidden,W_output)\n",
    "\n",
    "        delta_k = y_i - y_pred_i\n",
    "\n",
    "        #Gradient for output layer\n",
    "        Gradient_output  = -delta_k*x_h_i_1.T\n",
    "\n",
    "        A_output = (rho)*A_output + (1-rho)*(Gradient_output)**2\n",
    "\n",
    "        F_output = rho_f*F_output + (1-rho_f)*(Gradient_output)\n",
    "\n",
    "        alpha_t = alpha_init*(np.sqrt(1-rho**(i+1)))/(1-rho_f**(i+1))\n",
    "\n",
    "        W_output = W_output - alpha_t*F_output/np.sqrt(A_output+small_value)\n",
    "\n",
    "\n",
    "\n",
    "        delta_h = x_h_i_1*(1-x_h_i_1)*W_output.T*delta_k\n",
    "\n",
    "        # Update each hidden unit\n",
    "        Gradient_hidden = np.zeros_like(W_hidden)\n",
    "        for h in range(W_hidden.shape[0]):\n",
    "\n",
    "            #Gradient for hidden layer\n",
    "            Gradient_hidden[h,:] =  - delta_h[h] * x_i_1\n",
    "\n",
    "        # Gradient Descent rule\n",
    "\n",
    "        A_hidden = (rho)*A_hidden + (1-rho)*(Gradient_hidden)**2\n",
    "\n",
    "        F_hidden = rho_f*F_hidden + (1-rho_f)*(Gradient_hidden)\n",
    "\n",
    "        alpha_t = alpha_init*(np.sqrt(1-rho**(i+1)))/(1-rho_f**(i+1))\n",
    "\n",
    "        W_hidden = W_hidden - alpha_t*F_hidden/np.sqrt(A_hidden+small_value)\n",
    "\n",
    "\n",
    "\n",
    "    y_pred,_,_ = predict(ann_X_train4, W_hidden,W_output)\n",
    "\n",
    "\n",
    "np.save(\"Adam_gender_hidden.npy\",W_hidden)\n",
    "np.save(\"Adam_gender_output.npy\",W_output)"
   ]
  },
  {
   "cell_type": "code",
   "execution_count": 26,
   "metadata": {
    "ExecuteTime": {
     "end_time": "2024-07-08T10:08:28.349294Z",
     "start_time": "2024-07-08T10:08:28.344691Z"
    }
   },
   "outputs": [],
   "source": [
    "def LR_model():\n",
    "    W_age = np.load(\"W_ages_linear_regression.npy\")\n",
    "    W_gender = np.load(\"W_genders_linear_regression.npy\")\n",
    "    \n",
    "    new_data,img = upload_pic()\n",
    "    new_testing_dataset = np.vstack((X_test.copy(),new_data))\n",
    "    \n",
    "    y_predict_age = bias_matrix(new_testing_dataset) @ (one_dimensional_matrix_reshape(W_age))\n",
    "    y_predict_gender = bias_matrix(new_testing_dataset) @ (one_dimensional_matrix_reshape(W_gender))\n",
    "    \n",
    "    image_age = np.round(y_predict_age[-1] * 100,0)\n",
    "    image_gender = \"Male\" if y_predict_gender[-1] < 0 else \"Female\"\n",
    "    \n",
    "    display_image(img)\n",
    "    result_label.config(text=f\"Age: {image_age}\\n Gender: {image_gender}\")\n"
   ]
  },
  {
   "cell_type": "code",
   "execution_count": 27,
   "metadata": {
    "ExecuteTime": {
     "end_time": "2024-07-08T10:08:28.921002Z",
     "start_time": "2024-07-08T10:08:28.916229Z"
    }
   },
   "outputs": [],
   "source": [
    "\n",
    "def TR_model():\n",
    "    W_age = np.load(\"W_ages_TR.npy\")\n",
    "    W_gender = np.load(\"W_genders_TR.npy\")\n",
    "    \n",
    "    new_data,img = upload_pic()\n",
    "    new_testing_dataset = np.vstack((X_test.copy(),new_data))\n",
    "    \n",
    "    y_predict_age = bias_matrix(new_testing_dataset) @ (one_dimensional_matrix_reshape(W_age))\n",
    "    y_predict_gender = bias_matrix(new_testing_dataset) @ (one_dimensional_matrix_reshape(W_gender))\n",
    "    \n",
    "    image_age = np.round(y_predict_age[-1] * 100,0)\n",
    "    image_gender = \"Male\" if y_predict_gender[-1] < 0 else \"Female\"\n",
    "    \n",
    "    display_image(img)\n",
    "    result_label.config(text=f\"Age: {image_age}\\n Gender: {image_gender}\")\n"
   ]
  },
  {
   "cell_type": "code",
   "execution_count": 39,
   "metadata": {
    "ExecuteTime": {
     "end_time": "2024-07-08T10:15:42.325422Z",
     "start_time": "2024-07-08T10:15:42.277749Z"
    }
   },
   "outputs": [],
   "source": [
    "\n",
    "def ANN_model():\n",
    "    W_age_hidden = np.load(\"Adam_age_hidden.npy\")\n",
    "    W_age_output = np.load(\"Adam_age_output.npy\")\n",
    "    \n",
    "    W_gender_hidden = np.load(\"Adam_gender_hidden.npy\")\n",
    "    W_gender_output = np.load(\"Adam_gender_output.npy\")\n",
    "\n",
    "    new_data,img = upload_pic()\n",
    "    new_testing_dataset = np.vstack((X_test.copy(),new_data))\n",
    "\n",
    "    y_predict_age, _, _ = predict(new_testing_dataset, W_age_hidden, W_age_output)\n",
    "    y_predict_gender, _, _ = predict(new_testing_dataset,W_gender_hidden, W_gender_output)\n",
    "\n",
    "\n",
    "    image_age = np.round(y_predict_age[-1] * 100,0)\n",
    "    image_gender = \"Male\" if y_predict_gender[-1][0] < 0 else \"Female\"\n",
    "    print(y_predict_gender.shape)\n",
    "    display_image(img)\n",
    "    result_label.config(text=f\"Age: {image_age}\\n Gender: {image_gender}\")\n",
    "    \n"
   ]
  },
  {
   "cell_type": "code",
   "outputs": [
    {
     "name": "stdout",
     "output_type": "stream",
     "text": [
      "0.554962490067375\n",
      "0.7932446264073695\n",
      "[[ 0.45575707]\n",
      " [-0.9221591 ]\n",
      " [-1.6724258 ]\n",
      " [-1.16881247]\n",
      " [ 0.90624687]\n",
      " [ 0.0290773 ]\n",
      " [-1.41419073]\n",
      " [-0.82230525]\n",
      " [ 0.04377624]\n",
      " [ 0.1567444 ]\n",
      " [ 0.39093936]\n",
      " [ 0.26025726]\n",
      " [-0.32184455]\n",
      " [-0.65115464]\n",
      " [-0.75549362]\n",
      " [-0.42868523]\n",
      " [ 0.06824228]\n",
      " [-0.81252267]\n",
      " [-0.3356553 ]\n",
      " [ 1.11850101]] [ 1  1  1  1  1 -1  1  1  1  1  1  1 -1  1  1  1  1  1  1 -1]\n"
     ]
    }
   ],
   "source": [
    "ANN_model()"
   ],
   "metadata": {
    "collapsed": false,
    "ExecuteTime": {
     "end_time": "2024-07-08T10:06:31.933875Z",
     "start_time": "2024-07-08T10:06:31.235623Z"
    }
   },
   "execution_count": 25
  },
  {
   "cell_type": "code",
   "execution_count": 41,
   "metadata": {
    "ExecuteTime": {
     "end_time": "2024-07-08T10:19:06.452211Z",
     "start_time": "2024-07-08T10:17:13.036277Z"
    }
   },
   "outputs": [
    {
     "name": "stdout",
     "output_type": "stream",
     "text": [
      "0.5551508252703472\n",
      "0.7932446264073695\n",
      "[[ 0.45575707]\n",
      " [-0.9221591 ]\n",
      " [-1.6724258 ]\n",
      " [-1.16881247]\n",
      " [ 0.90624687]\n",
      " [ 0.0290773 ]\n",
      " [-1.41419073]\n",
      " [-0.82230525]\n",
      " [ 0.04377624]\n",
      " [ 0.1567444 ]\n",
      " [ 0.39093936]\n",
      " [ 0.26025726]\n",
      " [-0.32184455]\n",
      " [-0.65115464]\n",
      " [-0.75549362]\n",
      " [-0.42868523]\n",
      " [ 0.06824228]\n",
      " [-0.81252267]\n",
      " [-0.3356553 ]\n",
      " [ 1.11850101]] [ 1  1  1  1  1 -1  1  1  1  1  1  1 -1  1  1  1  1  1  1 -1]\n",
      "(978, 1)\n",
      "None\n",
      "0.5299641307928705\n",
      "0.7932446264073695\n",
      "[[ 0.45575707]\n",
      " [-0.9221591 ]\n",
      " [-1.6724258 ]\n",
      " [-1.16881247]\n",
      " [ 0.90624687]\n",
      " [ 0.0290773 ]\n",
      " [-1.41419073]\n",
      " [-0.82230525]\n",
      " [ 0.04377624]\n",
      " [ 0.1567444 ]\n",
      " [ 0.39093936]\n",
      " [ 0.26025726]\n",
      " [-0.32184455]\n",
      " [-0.65115464]\n",
      " [-0.75549362]\n",
      " [-0.42868523]\n",
      " [ 0.06824228]\n",
      " [-0.81252267]\n",
      " [-0.3356553 ]\n",
      " [ 1.11850101]] [ 1  1  1  1  1 -1  1  1  1  1  1  1 -1  1  1  1  1  1  1 -1]\n",
      "(978, 1)\n",
      "None\n",
      "0.4448491747296528\n",
      "0.7932446264073695\n",
      "[[ 0.45575707]\n",
      " [-0.9221591 ]\n",
      " [-1.6724258 ]\n",
      " [-1.16881247]\n",
      " [ 0.90624687]\n",
      " [ 0.0290773 ]\n",
      " [-1.41419073]\n",
      " [-0.82230525]\n",
      " [ 0.04377624]\n",
      " [ 0.1567444 ]\n",
      " [ 0.39093936]\n",
      " [ 0.26025726]\n",
      " [-0.32184455]\n",
      " [-0.65115464]\n",
      " [-0.75549362]\n",
      " [-0.42868523]\n",
      " [ 0.06824228]\n",
      " [-0.81252267]\n",
      " [-0.3356553 ]\n",
      " [ 1.11850101]] [ 1  1  1  1  1 -1  1  1  1  1  1  1 -1  1  1  1  1  1  1 -1]\n",
      "(978, 1)\n",
      "None\n",
      "0.4704376509734701\n",
      "0.7932446264073695\n",
      "[[ 0.45575707]\n",
      " [-0.9221591 ]\n",
      " [-1.6724258 ]\n",
      " [-1.16881247]\n",
      " [ 0.90624687]\n",
      " [ 0.0290773 ]\n",
      " [-1.41419073]\n",
      " [-0.82230525]\n",
      " [ 0.04377624]\n",
      " [ 0.1567444 ]\n",
      " [ 0.39093936]\n",
      " [ 0.26025726]\n",
      " [-0.32184455]\n",
      " [-0.65115464]\n",
      " [-0.75549362]\n",
      " [-0.42868523]\n",
      " [ 0.06824228]\n",
      " [-0.81252267]\n",
      " [-0.3356553 ]\n",
      " [ 1.11850101]] [ 1  1  1  1  1 -1  1  1  1  1  1  1 -1  1  1  1  1  1  1 -1]\n",
      "(978, 1)\n",
      "None\n",
      "0.5312824772136756\n",
      "0.7932446264073695\n",
      "[[ 0.45575707]\n",
      " [-0.9221591 ]\n",
      " [-1.6724258 ]\n",
      " [-1.16881247]\n",
      " [ 0.90624687]\n",
      " [ 0.0290773 ]\n",
      " [-1.41419073]\n",
      " [-0.82230525]\n",
      " [ 0.04377624]\n",
      " [ 0.1567444 ]\n",
      " [ 0.39093936]\n",
      " [ 0.26025726]\n",
      " [-0.32184455]\n",
      " [-0.65115464]\n",
      " [-0.75549362]\n",
      " [-0.42868523]\n",
      " [ 0.06824228]\n",
      " [-0.81252267]\n",
      " [-0.3356553 ]\n",
      " [ 1.11850101]] [ 1  1  1  1  1 -1  1  1  1  1  1  1 -1  1  1  1  1  1  1 -1]\n",
      "(978, 1)\n",
      "None\n"
     ]
    }
   ],
   "source": [
    "TK = tk.Tk()\n",
    "TK.geometry(\"1000x800\")\n",
    "tk_button1 = tk.Button(TK, text=\"Linear Regression Model\", width=30, font=('Arial', 15, 'italic'), command=lambda: print(LR_model()))\n",
    "tk_button1.pack(padx=50, pady=30)\n",
    "\n",
    "tk_button2 = tk.Button(TK, text=\"Tikhonov Regularization Model\", width=30, font=('Arial', 15, 'italic'), command=lambda: print(TR_model()))\n",
    "tk_button2.pack(padx=50, pady=30)\n",
    "\n",
    "tk_button3 = tk.Button(TK, text=\"ANN Model\", width=30, font=('Arial', 15, 'italic'), command=lambda: print(ANN_model()))\n",
    "tk_button3.pack(padx=50, pady=30)\n",
    "\n",
    "image_label = tk.Label(TK)\n",
    "image_label.pack(padx=50, pady=30)\n",
    "\n",
    "result_label = tk.Label(TK, text=\"\", font=('Arial', 20))\n",
    "result_label.pack(padx=50, pady=30)\n",
    "TK.mainloop()"
   ]
  },
  {
   "cell_type": "code",
   "outputs": [],
   "source": [],
   "metadata": {
    "collapsed": false
   }
  }
 ],
 "metadata": {
  "kernelspec": {
   "display_name": "Python 3",
   "language": "python",
   "name": "python3"
  },
  "language_info": {
   "codemirror_mode": {
    "name": "ipython",
    "version": 3
   },
   "file_extension": ".py",
   "mimetype": "text/x-python",
   "name": "python",
   "nbconvert_exporter": "python",
   "pygments_lexer": "ipython3",
   "version": "3.10.9"
  }
 },
 "nbformat": 4,
 "nbformat_minor": 2
}
