{
 "cells": [
  {
   "cell_type": "markdown",
   "source": [
    "# import library"
   ],
   "metadata": {
    "collapsed": false
   },
   "id": "ce53d10c6277fe6f"
  },
  {
   "cell_type": "code",
   "outputs": [],
   "source": [
    "import numpy as np"
   ],
   "metadata": {
    "id": "ead99480d36ffcc2",
    "ExecuteTime": {
     "end_time": "2024-07-06T07:48:33.054952Z",
     "start_time": "2024-07-06T07:48:33.052104Z"
    }
   },
   "id": "ead99480d36ffcc2",
   "execution_count": 2
  },
  {
   "cell_type": "markdown",
   "source": [
    "# create a relation from place name to place index"
   ],
   "metadata": {
    "collapsed": false
   },
   "id": "c7c844a7f06d54d6"
  },
  {
   "cell_type": "code",
   "outputs": [],
   "source": [
    "\n",
    "places = ['KLIA', 'Aquaria KLCC', 'KLCC', 'Pavilion', 'Melaka', 'Colmar Malaysia', 'Batu Caves', 'Cameron Highland',\n",
    "          'Legoland', \"Fraser's Hill\", 'Genting Highland', 'Lost World of Tambun', 'Penang']"
   ],
   "metadata": {
    "collapsed": true,
    "id": "initial_id",
    "ExecuteTime": {
     "end_time": "2024-07-06T07:48:33.103460Z",
     "start_time": "2024-07-06T07:48:33.100319Z"
    }
   },
   "id": "initial_id",
   "execution_count": 3
  },
  {
   "cell_type": "code",
   "outputs": [
    {
     "name": "stdout",
     "output_type": "stream",
     "text": [
      "{'KLIA': 0, 'Aquaria KLCC': 1, 'KLCC': 2, 'Pavilion': 3, 'Melaka': 4, 'Colmar Malaysia': 5, 'Batu Caves': 6, 'Cameron Highland': 7, 'Legoland': 8, \"Fraser's Hill\": 9, 'Genting Highland': 10, 'Lost World of Tambun': 11, 'Penang': 12}\n",
      "{0: 'KLIA', 1: 'Aquaria KLCC', 2: 'KLCC', 3: 'Pavilion', 4: 'Melaka', 5: 'Colmar Malaysia', 6: 'Batu Caves', 7: 'Cameron Highland', 8: 'Legoland', 9: \"Fraser's Hill\", 10: 'Genting Highland', 11: 'Lost World of Tambun', 12: 'Penang'}\n"
     ]
    }
   ],
   "source": [
    "place2idx = {}\n",
    "idx2place = {}\n",
    "\n",
    "for i, place in enumerate(places):\n",
    "    place2idx[place] = i\n",
    "    idx2place[i] = place\n",
    "\n",
    "print(place2idx)\n",
    "print(idx2place)\n"
   ],
   "metadata": {
    "colab": {
     "base_uri": "https://localhost:8080/"
    },
    "id": "23d80af6287b1361",
    "outputId": "9919b90b-320f-4566-a69c-7870128b4ad7",
    "ExecuteTime": {
     "end_time": "2024-07-06T07:48:33.107898Z",
     "start_time": "2024-07-06T07:48:33.104576Z"
    }
   },
   "id": "23d80af6287b1361",
   "execution_count": 4
  },
  {
   "cell_type": "markdown",
   "source": [
    "# define the adj matrix"
   ],
   "metadata": {
    "collapsed": false
   },
   "id": "4caacd9366970efa"
  },
  {
   "cell_type": "code",
   "outputs": [],
   "source": [
    "adj_matrix = np.zeros((len(places), len(places))).astype(int)\n",
    "\n",
    "adj_matrix[place2idx['KLIA'], place2idx['KLCC']] = 10\n",
    "adj_matrix[place2idx['KLIA'], place2idx['Pavilion']] = 12\n",
    "adj_matrix[place2idx['KLIA'], place2idx['Melaka']] = 50\n",
    "\n",
    "adj_matrix[place2idx['Aquaria KLCC'], place2idx['KLCC']] = 2\n",
    "adj_matrix[place2idx['KLCC'], place2idx['Aquaria KLCC']] = 2\n",
    "adj_matrix[place2idx['KLCC'], place2idx['Pavilion']] = 5\n",
    "adj_matrix[place2idx['Pavilion'], place2idx['KLCC']] = 5\n",
    "adj_matrix[place2idx['Pavilion'], place2idx['Melaka']] = 60\n",
    "adj_matrix[place2idx['Melaka'], place2idx['Pavilion']] = 60\n",
    "\n",
    "adj_matrix[place2idx['KLCC'], place2idx['Batu Caves']] = 30\n",
    "adj_matrix[place2idx['Batu Caves'], place2idx['KLCC']] = 30\n",
    "adj_matrix[place2idx['Melaka'], place2idx['Legoland']] = 40\n",
    "adj_matrix[place2idx['Legoland'], place2idx['Melaka']] = 40\n",
    "\n",
    "adj_matrix[place2idx['Colmar Malaysia'], place2idx['Batu Caves']] = 10\n",
    "adj_matrix[place2idx['Batu Caves'], place2idx['Colmar Malaysia']] = 10\n",
    "\n",
    "adj_matrix[place2idx['Colmar Malaysia'], place2idx[\"Fraser's Hill\"]] = 13\n",
    "adj_matrix[place2idx[\"Fraser's Hill\"], place2idx['Colmar Malaysia']] = 13\n",
    "adj_matrix[place2idx['Batu Caves'], place2idx['Genting Highland']] = 15\n",
    "adj_matrix[place2idx['Genting Highland'], place2idx['Batu Caves']] = 15\n",
    "adj_matrix[place2idx['Cameron Highland'], place2idx['Genting Highland']] = 40\n",
    "adj_matrix[place2idx['Genting Highland'], place2idx['Cameron Highland']] = 40\n",
    "adj_matrix[place2idx['Cameron Highland'], place2idx['Lost World of Tambun']] = 15\n",
    "adj_matrix[place2idx['Lost World of Tambun'], place2idx['Cameron Highland']] = 15\n",
    "\n",
    "adj_matrix[place2idx[\"Fraser's Hill\"], place2idx['Genting Highland']] = 15\n",
    "adj_matrix[place2idx['Genting Highland'], place2idx[\"Fraser's Hill\"]] = 15\n",
    "adj_matrix[place2idx['Genting Highland'], place2idx['Lost World of Tambun']] = 60\n",
    "adj_matrix[place2idx['Lost World of Tambun'], place2idx['Genting Highland']] = 60\n",
    "adj_matrix[place2idx['Lost World of Tambun'], place2idx['Penang']] = 10\n",
    "adj_matrix[place2idx['Penang'], place2idx['Lost World of Tambun']] = 10\n",
    "\n",
    "\n"
   ],
   "metadata": {
    "id": "f7b5ca4aedfe4c31",
    "ExecuteTime": {
     "end_time": "2024-07-06T07:48:33.122770Z",
     "start_time": "2024-07-06T07:48:33.113250Z"
    }
   },
   "id": "f7b5ca4aedfe4c31",
   "execution_count": 5
  },
  {
   "cell_type": "code",
   "outputs": [
    {
     "name": "stdout",
     "output_type": "stream",
     "text": [
      "[[ 0  0 10 12 50  0  0  0  0  0  0  0  0]\n",
      " [ 0  0  2  0  0  0  0  0  0  0  0  0  0]\n",
      " [ 0  2  0  5  0  0 30  0  0  0  0  0  0]\n",
      " [ 0  0  5  0 60  0  0  0  0  0  0  0  0]\n",
      " [ 0  0  0 60  0  0  0  0 40  0  0  0  0]\n",
      " [ 0  0  0  0  0  0 10  0  0 13  0  0  0]\n",
      " [ 0  0 30  0  0 10  0  0  0  0 15  0  0]\n",
      " [ 0  0  0  0  0  0  0  0  0  0 40 15  0]\n",
      " [ 0  0  0  0 40  0  0  0  0  0  0  0  0]\n",
      " [ 0  0  0  0  0 13  0  0  0  0 15  0  0]\n",
      " [ 0  0  0  0  0  0 15 40  0 15  0 60  0]\n",
      " [ 0  0  0  0  0  0  0 15  0  0 60  0 10]\n",
      " [ 0  0  0  0  0  0  0  0  0  0  0 10  0]]\n"
     ]
    }
   ],
   "source": [
    "print(adj_matrix)"
   ],
   "metadata": {
    "colab": {
     "base_uri": "https://localhost:8080/"
    },
    "id": "b3ded4eaa7a81845",
    "outputId": "0fe8e555-2aff-440a-90cc-bec79394e1f1",
    "ExecuteTime": {
     "end_time": "2024-07-06T07:48:33.128088Z",
     "start_time": "2024-07-06T07:48:33.123783Z"
    }
   },
   "id": "b3ded4eaa7a81845",
   "execution_count": 6
  },
  {
   "cell_type": "code",
   "outputs": [
    {
     "name": "stdout",
     "output_type": "stream",
     "text": [
      "1 = KLIA\n",
      "2 = Aquaria KLCC\n",
      "3 = KLCC\n",
      "4 = Pavilion\n",
      "5 = Melaka\n",
      "6 = Colmar Malaysia\n",
      "7 = Batu Caves\n",
      "8 = Cameron Highland\n",
      "9 = Legoland\n",
      "10 = Fraser's Hill\n",
      "11 = Genting Highland\n",
      "12 = Lost World of Tambun\n",
      "13 = Penang\n",
      "adjacency matrix:\n",
      "\\|\t1\t2\t3\t4\t5\t6\t7\t8\t9\t10\t11\t12\t13\t\n",
      "____________________________________________________\n",
      "1|\t0\t0\t10\t12\t50\t0\t0\t0\t0\t0\t0\t0\t0\t\n",
      "2|\t0\t0\t2\t0\t0\t0\t0\t0\t0\t0\t0\t0\t0\t\n",
      "3|\t0\t2\t0\t5\t0\t0\t30\t0\t0\t0\t0\t0\t0\t\n",
      "4|\t0\t0\t5\t0\t60\t0\t0\t0\t0\t0\t0\t0\t0\t\n",
      "5|\t0\t0\t0\t60\t0\t0\t0\t0\t40\t0\t0\t0\t0\t\n",
      "6|\t0\t0\t0\t0\t0\t0\t10\t0\t0\t13\t0\t0\t0\t\n",
      "7|\t0\t0\t30\t0\t0\t10\t0\t0\t0\t0\t15\t0\t0\t\n",
      "8|\t0\t0\t0\t0\t0\t0\t0\t0\t0\t0\t40\t15\t0\t\n",
      "9|\t0\t0\t0\t0\t40\t0\t0\t0\t0\t0\t0\t0\t0\t\n",
      "10|\t0\t0\t0\t0\t0\t13\t0\t0\t0\t0\t15\t0\t0\t\n",
      "11|\t0\t0\t0\t0\t0\t0\t15\t40\t0\t15\t0\t60\t0\t\n",
      "12|\t0\t0\t0\t0\t0\t0\t0\t15\t0\t0\t60\t0\t10\t\n",
      "13|\t0\t0\t0\t0\t0\t0\t0\t0\t0\t0\t0\t10\t0\t\n"
     ]
    }
   ],
   "source": [
    "def print_adj_matrix(adj_matrix):\n",
    "    for i ,place in enumerate(places):\n",
    "        print(i + 1, '=', place)\n",
    "        \n",
    "    print(\"adjacency matrix:\")\n",
    "    print('\\\\|', end='\\t')\n",
    "    for i in range (len(places)):\n",
    "        print(i + 1, end='\\t')\n",
    "    print()\n",
    "    print(\"_\"*len(places) * 4)\n",
    "    \n",
    "    for i in range (len(places)):\n",
    "        print(f'{i + 1}' + '|', end='\\t')\n",
    "        for num in adj_matrix[i,:]:\n",
    "            print(num, end='\\t')\n",
    "        print()\n",
    "        \n",
    "        \n",
    "\n",
    "print_adj_matrix(adj_matrix)"
   ],
   "metadata": {
    "collapsed": false,
    "ExecuteTime": {
     "end_time": "2024-07-06T08:40:27.518181Z",
     "start_time": "2024-07-06T08:40:27.512842Z"
    }
   },
   "id": "14d068f8b4a034ce",
   "execution_count": 34
  },
  {
   "cell_type": "markdown",
   "source": [
    "## basic dfs"
   ],
   "metadata": {
    "collapsed": false
   },
   "id": "d3c80fc3d89d29f2"
  },
  {
   "cell_type": "code",
   "outputs": [
    {
     "name": "stdout",
     "output_type": "stream",
     "text": [
      "KLIA\n",
      "KLCC\n",
      "Aquaria KLCC\n",
      "Pavilion\n",
      "Melaka\n",
      "Legoland\n",
      "Batu Caves\n",
      "Colmar Malaysia\n",
      "Fraser's Hill\n",
      "Genting Highland\n",
      "Cameron Highland\n",
      "Lost World of Tambun\n",
      "Penang\n"
     ]
    }
   ],
   "source": [
    "def dfs(adj_matrix, starting_place):\n",
    "    stack = [place2idx[starting_place]]\n",
    "    visited = set()\n",
    "    visit_order = []\n",
    "    while stack:\n",
    "        place = stack.pop()\n",
    "        if place not in visited:\n",
    "            visit_order.append(place)\n",
    "            visited.add(place)\n",
    "\n",
    "            buffer_list = []\n",
    "            for idx, cost in enumerate(adj_matrix[place]):\n",
    "                if cost > 0:\n",
    "                    buffer_list.append((cost, idx))\n",
    "\n",
    "            buffer_list.sort(reverse=True)\n",
    "            for pair in buffer_list:\n",
    "                stack.append(pair[1])\n",
    "\n",
    "    return visit_order\n",
    "\n",
    "\n",
    "order = dfs(adj_matrix, 'KLIA')\n",
    "for idx in order:\n",
    "    print(idx2place[idx])"
   ],
   "metadata": {
    "colab": {
     "base_uri": "https://localhost:8080/"
    },
    "id": "dfb82998bf023bcd",
    "outputId": "15fd340d-b889-409a-97b6-5c36295a3b35",
    "ExecuteTime": {
     "end_time": "2024-07-06T07:48:33.137364Z",
     "start_time": "2024-07-06T07:48:33.132526Z"
    }
   },
   "id": "dfb82998bf023bcd",
   "execution_count": 8
  },
  {
   "cell_type": "markdown",
   "source": [
    "## basic bfs"
   ],
   "metadata": {
    "collapsed": false
   },
   "id": "2cb9427e89997f10"
  },
  {
   "cell_type": "code",
   "outputs": [
    {
     "name": "stdout",
     "output_type": "stream",
     "text": [
      "KLIA\n",
      "KLCC\n",
      "Pavilion\n",
      "Melaka\n",
      "Aquaria KLCC\n",
      "Batu Caves\n",
      "Legoland\n",
      "Colmar Malaysia\n",
      "Genting Highland\n",
      "Fraser's Hill\n",
      "Cameron Highland\n",
      "Lost World of Tambun\n",
      "Penang\n"
     ]
    }
   ],
   "source": [
    "def bfs(adj_matrix, starting_place):\n",
    "    queue = [place2idx[starting_place]]\n",
    "    visited = set()\n",
    "    visit_order = []\n",
    "    while queue:\n",
    "        place = queue.pop(0)\n",
    "        if place not in visited:\n",
    "            visit_order.append(place)\n",
    "            visited.add(place)\n",
    "\n",
    "            buffer_list = []\n",
    "            for idx, cost in enumerate(adj_matrix[place]):\n",
    "                if cost > 0:\n",
    "                    buffer_list.append((cost, idx))\n",
    "\n",
    "            buffer_list.sort()\n",
    "            for pair in buffer_list:\n",
    "                queue.append(pair[1])\n",
    "\n",
    "    return visit_order\n",
    "\n",
    "\n",
    "order = bfs(adj_matrix, 'KLIA')\n",
    "for idx in order:\n",
    "    print(idx2place[idx])"
   ],
   "metadata": {
    "colab": {
     "base_uri": "https://localhost:8080/"
    },
    "id": "73ffa2b08db7391f",
    "outputId": "07090c3a-3887-467e-c0e4-7bfbd0fc2364",
    "ExecuteTime": {
     "end_time": "2024-07-06T07:48:33.143376Z",
     "start_time": "2024-07-06T07:48:33.138370Z"
    }
   },
   "id": "73ffa2b08db7391f",
   "execution_count": 9
  },
  {
   "cell_type": "markdown",
   "source": [
    "## User preference dfs"
   ],
   "metadata": {
    "collapsed": false
   },
   "id": "90508d175b419fcb"
  },
  {
   "cell_type": "code",
   "outputs": [],
   "source": [
    "def dfs_user(adj_matrix, starting_place):\n",
    "    stack = [[(place2idx[starting_place], 0)]]\n",
    "    visited = set()\n",
    "    visit_order = []\n",
    "\n",
    "    while stack:\n",
    "        the_neighbors = stack.pop()\n",
    "\n",
    "        buffer_list = []\n",
    "        for place_n_cost in the_neighbors:\n",
    "            if place_n_cost[0] not in visited:\n",
    "                buffer_list.append(place_n_cost)\n",
    "\n",
    "        selected_place_n_cost = None\n",
    "\n",
    "        if len(buffer_list) == 1:\n",
    "            selected_place_n_cost = buffer_list[0]\n",
    "\n",
    "\n",
    "        elif len(buffer_list) > 1:\n",
    "            while True:\n",
    "\n",
    "                print(f'Based on DFS(User preference), after visiting {idx2place[visit_order[-1]]} you may visit next:')\n",
    "                for i, pair in enumerate(buffer_list):\n",
    "                    print(f'    {i + 1}- {idx2place[pair[0]]} ({pair[1]})')\n",
    "                print()\n",
    "\n",
    "                user_input = input('User input: ')\n",
    "                if not user_input.isdigit():\n",
    "                    print('Invalid data type inputted. Please try again.')\n",
    "                    print()\n",
    "                else:\n",
    "                    user_input = int(user_input)\n",
    "\n",
    "                    if user_input < 1 or user_input > len(buffer_list):\n",
    "                        print('Invalid input, please try again')\n",
    "                        print()\n",
    "                    else:\n",
    "                        print()\n",
    "                        selected_place_n_cost = buffer_list[user_input - 1]\n",
    "                        buffer_list.remove(selected_place_n_cost)\n",
    "                        stack.append(buffer_list)\n",
    "                        break\n",
    "\n",
    "        if selected_place_n_cost is not None:\n",
    "            visited.add(selected_place_n_cost[0])\n",
    "            visit_order.append(selected_place_n_cost[0])\n",
    "\n",
    "            neighbors = []\n",
    "\n",
    "            for idx, cost in enumerate(adj_matrix[selected_place_n_cost[0]]):\n",
    "                if cost > 0 and idx not in visited:\n",
    "                    neighbors.append((idx, cost))\n",
    "\n",
    "            stack.append(neighbors)\n",
    "\n",
    "    return visit_order\n",
    "\n"
   ],
   "metadata": {
    "colab": {
     "base_uri": "https://localhost:8080/"
    },
    "id": "878b38e5e79ac25d",
    "outputId": "965fe91a-8a2d-4b7b-a44f-cd03e3879efa",
    "ExecuteTime": {
     "end_time": "2024-07-06T07:48:33.150646Z",
     "start_time": "2024-07-06T07:48:33.143376Z"
    }
   },
   "id": "878b38e5e79ac25d",
   "execution_count": 10
  },
  {
   "cell_type": "code",
   "outputs": [
    {
     "name": "stdout",
     "output_type": "stream",
     "text": [
      "Based on DFS(User preference), after visiting KLIA you may visit next:\n",
      "    1- KLCC (10)\n",
      "    2- Pavilion (12)\n",
      "    3- Melaka (50)\n",
      "\n",
      "Based on DFS(User preference), after visiting KLCC you may visit next:\n",
      "    1- Aquaria KLCC (2)\n",
      "    2- Pavilion (5)\n",
      "    3- Batu Caves (30)\n",
      "\n",
      "\n",
      "Based on DFS(User preference), after visiting Aquaria KLCC you may visit next:\n",
      "    1- Pavilion (5)\n",
      "    2- Batu Caves (30)\n",
      "\n",
      "Based on DFS(User preference), after visiting Batu Caves you may visit next:\n",
      "    1- Colmar Malaysia (10)\n",
      "    2- Genting Highland (15)\n",
      "\n",
      "\n",
      "Based on DFS(User preference), after visiting Genting Highland you may visit next:\n",
      "    1- Cameron Highland (40)\n",
      "    2- Lost World of Tambun (60)\n",
      "\n",
      "KLIA\n",
      "KLCC\n",
      "Aquaria KLCC\n",
      "Pavilion\n",
      "Melaka\n",
      "Legoland\n",
      "Batu Caves\n",
      "Colmar Malaysia\n",
      "Fraser's Hill\n",
      "Genting Highland\n",
      "Cameron Highland\n",
      "Lost World of Tambun\n",
      "Penang\n"
     ]
    }
   ],
   "source": [
    "order = dfs_user(adj_matrix, 'KLIA')\n",
    "for idx in order:\n",
    "    print(idx2place[idx])"
   ],
   "metadata": {
    "collapsed": false,
    "ExecuteTime": {
     "end_time": "2024-07-06T07:48:41.579586Z",
     "start_time": "2024-07-06T07:48:33.151915Z"
    }
   },
   "id": "79bb48d7d1c95bb",
   "execution_count": 11
  },
  {
   "cell_type": "markdown",
   "source": [
    "## user preference bfs"
   ],
   "metadata": {
    "collapsed": false
   },
   "id": "c342c592c1149825"
  },
  {
   "cell_type": "code",
   "source": [
    "def bfs_user(adj_matrix, starting_place):\n",
    "    queue = [place2idx[starting_place]]\n",
    "    visited = set()\n",
    "    visit_order = []\n",
    "    while queue:\n",
    "        place = queue.pop(0)\n",
    "        if place not in visited:\n",
    "            visit_order.append(place)\n",
    "            visited.add(place)\n",
    "\n",
    "            buffer_list = []\n",
    "            for idx, cost in enumerate(adj_matrix[place]):\n",
    "                if cost > 0 and idx not in visited and idx not in queue:\n",
    "                    buffer_list.append(idx)\n",
    "\n",
    "            while len(buffer_list) > 1:\n",
    "\n",
    "                print(\n",
    "                    f'Based on BFS(User preference), after visiting {idx2place[visit_order[-1]]} you may visit first:')\n",
    "                for i, idx in enumerate(buffer_list):\n",
    "                    print(f'    {i + 1}- {idx2place[idx]} ({adj_matrix[place, idx]})')\n",
    "                print()\n",
    "\n",
    "                user_input = input('User input: ')\n",
    "                if not user_input.isdigit():\n",
    "                    print('Invalid data type inputted. Please try again.')\n",
    "                    print()\n",
    "                else:\n",
    "                    user_input = int(user_input)\n",
    "\n",
    "                    if user_input < 1 or user_input > len(buffer_list):\n",
    "                        print('Invalid input, please try again')\n",
    "                        print()\n",
    "                    else:\n",
    "                        print()\n",
    "                        enqueue_place = buffer_list[user_input - 1]\n",
    "                        buffer_list.remove(enqueue_place)\n",
    "                        queue.append(enqueue_place)\n",
    "\n",
    "            if len(buffer_list) == 1:\n",
    "                enqueue_place = buffer_list[0]\n",
    "                queue.append(enqueue_place)\n",
    "\n",
    "    return visit_order\n"
   ],
   "metadata": {
    "colab": {
     "base_uri": "https://localhost:8080/"
    },
    "id": "JNyLTVsAVqFt",
    "outputId": "0e7d724e-561f-4c83-cc65-9e1e80d7d3bc",
    "ExecuteTime": {
     "end_time": "2024-07-06T07:48:41.588713Z",
     "start_time": "2024-07-06T07:48:41.580784Z"
    }
   },
   "id": "JNyLTVsAVqFt",
   "execution_count": 12,
   "outputs": []
  },
  {
   "cell_type": "code",
   "outputs": [
    {
     "name": "stdout",
     "output_type": "stream",
     "text": [
      "Based on BFS(User preference), after visiting KLIA you may visit first:\n",
      "    1- KLCC (10)\n",
      "    2- Pavilion (12)\n",
      "    3- Melaka (50)\n",
      "\n",
      "Based on BFS(User preference), after visiting KLIA you may visit first:\n",
      "    1- Pavilion (12)\n",
      "    2- Melaka (50)\n",
      "\n",
      "\n",
      "Based on BFS(User preference), after visiting KLCC you may visit first:\n",
      "    1- Aquaria KLCC (2)\n",
      "    2- Batu Caves (30)\n",
      "\n",
      "Based on BFS(User preference), after visiting Batu Caves you may visit first:\n",
      "    1- Colmar Malaysia (10)\n",
      "    2- Genting Highland (15)\n",
      "\n",
      "\n",
      "Based on BFS(User preference), after visiting Genting Highland you may visit first:\n",
      "    1- Cameron Highland (40)\n",
      "    2- Lost World of Tambun (60)\n",
      "\n",
      "KLIA\n",
      "KLCC\n",
      "Pavilion\n",
      "Melaka\n",
      "Aquaria KLCC\n",
      "Batu Caves\n",
      "Legoland\n",
      "Colmar Malaysia\n",
      "Genting Highland\n",
      "Fraser's Hill\n",
      "Cameron Highland\n",
      "Lost World of Tambun\n",
      "Penang\n"
     ]
    }
   ],
   "source": [
    "order = bfs_user(adj_matrix, 'KLIA')\n",
    "for idx in order:\n",
    "    print(idx2place[idx])"
   ],
   "metadata": {
    "collapsed": false,
    "ExecuteTime": {
     "end_time": "2024-07-06T07:48:44.384230Z",
     "start_time": "2024-07-06T07:48:41.589720Z"
    }
   },
   "id": "3f715c567a07134d",
   "execution_count": 13
  },
  {
   "cell_type": "markdown",
   "source": [
    "# User interface "
   ],
   "metadata": {
    "collapsed": false
   },
   "id": "48e71cb66ea01e3b"
  },
  {
   "cell_type": "code",
   "outputs": [
    {
     "name": "stdout",
     "output_type": "stream",
     "text": [
      "Welcome!\n",
      "\n",
      "1 = KLIA\n",
      "2 = Aquaria KLCC\n",
      "3 = KLCC\n",
      "4 = Pavilion\n",
      "5 = Melaka\n",
      "6 = Colmar Malaysia\n",
      "7 = Batu Caves\n",
      "8 = Cameron Highland\n",
      "9 = Legoland\n",
      "10 = Fraser's Hill\n",
      "11 = Genting Highland\n",
      "12 = Lost World of Tambun\n",
      "13 = Penang\n",
      "adjacency matrix:\n",
      "\\\t1\t2\t3\t4\t5\t6\t7\t8\t9\t10\t11\t12\t13\t\n",
      "1\t0\t0\t10\t12\t50\t0\t0\t0\t0\t0\t0\t0\t0\t\n",
      "2\t0\t0\t2\t0\t0\t0\t0\t0\t0\t0\t0\t0\t0\t\n",
      "3\t0\t2\t0\t5\t0\t0\t30\t0\t0\t0\t0\t0\t0\t\n",
      "4\t0\t0\t5\t0\t60\t0\t0\t0\t0\t0\t0\t0\t0\t\n",
      "5\t0\t0\t0\t60\t0\t0\t0\t0\t40\t0\t0\t0\t0\t\n",
      "6\t0\t0\t0\t0\t0\t0\t10\t0\t0\t13\t0\t0\t0\t\n",
      "7\t0\t0\t30\t0\t0\t10\t0\t0\t0\t0\t15\t0\t0\t\n",
      "8\t0\t0\t0\t0\t0\t0\t0\t0\t0\t0\t40\t15\t0\t\n",
      "9\t0\t0\t0\t0\t40\t0\t0\t0\t0\t0\t0\t0\t0\t\n",
      "10\t0\t0\t0\t0\t0\t13\t0\t0\t0\t0\t15\t0\t0\t\n",
      "11\t0\t0\t0\t0\t0\t0\t15\t40\t0\t15\t0\t60\t0\t\n",
      "12\t0\t0\t0\t0\t0\t0\t0\t15\t0\t0\t60\t0\t10\t\n",
      "13\t0\t0\t0\t0\t0\t0\t0\t0\t0\t0\t0\t10\t0\t\n",
      "\n",
      "please select your method\n",
      "1. basic dfs\n",
      "2. basic bfs\n",
      "3. user preference dfs\n",
      "4. user preference bfs\n",
      "\n",
      "the order is:\n",
      "KLIA\n",
      "KLCC\n",
      "Aquaria KLCC\n",
      "Pavilion\n",
      "Melaka\n",
      "Legoland\n",
      "Batu Caves\n",
      "Colmar Malaysia\n",
      "Fraser's Hill\n",
      "Genting Highland\n",
      "Cameron Highland\n",
      "Lost World of Tambun\n",
      "Penang\n"
     ]
    }
   ],
   "source": [
    "inter_face_string = \"\"\"\n",
    "please select your method\n",
    "1. basic dfs\n",
    "2. basic bfs\n",
    "3. user preference dfs\n",
    "4. user preference bfs\n",
    "\"\"\"\n",
    "print(\"Welcome!\\n\")\n",
    "print_adj_matrix(adj_matrix)\n",
    "while True:\n",
    "    print(inter_face_string)\n",
    "    user_input = input('User input: ')\n",
    "    if not user_input.isdigit():\n",
    "        print('Invalid data type inputted. Please try again.')\n",
    "        print()\n",
    "    else:\n",
    "        user_input = int(user_input)\n",
    "        if 1 <= user_input <= 4:\n",
    "            break\n",
    "        else:\n",
    "            print('Invalid input, please try again.')\n",
    "    \n",
    "order = None\n",
    "\n",
    "if user_input == 1:\n",
    "    order = dfs(adj_matrix, 'KLIA')\n",
    "elif user_input == 2:\n",
    "    order = bfs(adj_matrix, 'KLIA')\n",
    "elif user_input == 3:\n",
    "    order = dfs_user(adj_matrix, 'KLIA')\n",
    "elif user_input == 4:\n",
    "    order = bfs_user(adj_matrix, 'KLIA')\n",
    "\n",
    "print()\n",
    "print(\"the order is:\")\n",
    "for idx in order:\n",
    "    print(idx2place[idx])\n",
    "    \n",
    "\n",
    "\n"
   ],
   "metadata": {
    "collapsed": false,
    "ExecuteTime": {
     "end_time": "2024-07-06T08:36:15.868358Z",
     "start_time": "2024-07-06T08:36:13.706746Z"
    }
   },
   "id": "f60560e0671eedda",
   "execution_count": 31
  }
 ],
 "metadata": {
  "kernelspec": {
   "display_name": "Python 3",
   "language": "python",
   "name": "python3"
  },
  "language_info": {
   "codemirror_mode": {
    "name": "ipython",
    "version": 2
   },
   "file_extension": ".py",
   "mimetype": "text/x-python",
   "name": "python",
   "nbconvert_exporter": "python",
   "pygments_lexer": "ipython2",
   "version": "2.7.6"
  },
  "colab": {
   "provenance": []
  }
 },
 "nbformat": 4,
 "nbformat_minor": 5
}
