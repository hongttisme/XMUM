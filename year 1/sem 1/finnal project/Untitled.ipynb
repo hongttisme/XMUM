{
 "cells": [
  {
   "cell_type": "markdown",
   "id": "9a85a03a",
   "metadata": {},
   "source": []
  },
  {
   "cell_type": "code",
   "execution_count": null,
   "id": "77b565aa",
   "metadata": {},
   "outputs": [
    {
     "name": "stdout",
     "output_type": "stream",
     "text": [
      "welcome to our chess game!!\n"
     ]
    }
   ],
   "source": [
    "from chessRule import *\n",
    "# all constant stored in chessRule.py\n",
    "# all things about display stored in display.py\n",
    "def chess_board_setup():\n",
    "    while True:\n",
    "        display_board(startingPosition)\n",
    "        a = input(\"does the chessboard align correctly?(Y/N)\").upper()\n",
    "        the_method = None\n",
    "        if a == 'N':\n",
    "            the_method = 1\n",
    "            break\n",
    "        elif a == 'Y':\n",
    "            the_method = 0\n",
    "            break\n",
    "        else:\n",
    "            print(\"Wrong input! Please input again\")\n",
    "\n",
    "    while True:\n",
    "        display_board(startingPosition, method=the_method)\n",
    "        a = input(\"Is the white piece on the bottom?(Y/N)\").upper()\n",
    "        the_bw = None\n",
    "        if a == 'N':\n",
    "            the_bw = 1\n",
    "            break\n",
    "        elif a == 'Y':\n",
    "            the_bw = 0\n",
    "            break\n",
    "        else:\n",
    "            print(\"wrong input! please input again\")\n",
    "    input(\"All done!, are you ready to go? (press enter to continue)\")\n",
    "    return the_method, the_bw\n",
    "\n",
    "print(\"welcome to our chess game!!\")\n",
    "input(\"first, lets configure our chessboard (press enter to continue)\")\n",
    "method, bw = chess_board_setup()\n",
    "print()\n",
    "print(\"-\" * 50)\n",
    "while True:\n",
    "\n",
    "    print(menu)\n",
    "    s = input(\"your input: \")\n",
    "    if s == '1':\n",
    "        print(text_chess_rule)\n",
    "        input(\"(press enter to esc chess rule page)\")\n",
    "    elif s == '2':\n",
    "        print(readme)\n",
    "        input(\"(press enter to esc help page)\")\n",
    "    elif s == '5':\n",
    "        print(\"Bye, see you!\")\n",
    "        break\n",
    "    elif s == '4':\n",
    "        method,bw=chess_board_setup()\n",
    "    elif s == '3':\n",
    "        # set up the game\n",
    "        player = BLACK\n",
    "        record_castling_able = np.array([[0, 0, 0], [0, 0, 0]])\n",
    "        the_map = startingPosition.copy()\n",
    "        game_play(the_map,player,record_castling_able,dm=method,dbw=bw)\n",
    "    else:\n",
    "        print(\"wrong input\")\n",
    "\n",
    "\n",
    "    print()\n",
    "    print(\"-\"*50)\n",
    "\n"
   ]
  },
  {
   "cell_type": "code",
   "execution_count": null,
   "id": "6b03fc09",
   "metadata": {},
   "outputs": [],
   "source": []
  }
 ],
 "metadata": {
  "kernelspec": {
   "display_name": "Python 3 (ipykernel)",
   "language": "python",
   "name": "python3"
  },
  "language_info": {
   "codemirror_mode": {
    "name": "ipython",
    "version": 3
   },
   "file_extension": ".py",
   "mimetype": "text/x-python",
   "name": "python",
   "nbconvert_exporter": "python",
   "pygments_lexer": "ipython3",
   "version": "3.10.11"
  }
 },
 "nbformat": 4,
 "nbformat_minor": 5
}
